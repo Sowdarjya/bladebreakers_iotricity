{
  "nbformat": 4,
  "nbformat_minor": 0,
  "metadata": {
    "colab": {
      "provenance": [],
      "gpuType": "T4",
      "authorship_tag": "ABX9TyNh/0lT5kS01huoHY2pjQXv",
      "include_colab_link": true
    },
    "kernelspec": {
      "name": "python3",
      "display_name": "Python 3"
    },
    "language_info": {
      "name": "python"
    },
    "accelerator": "GPU"
  },
  "cells": [
    {
      "cell_type": "markdown",
      "metadata": {
        "id": "view-in-github",
        "colab_type": "text"
      },
      "source": [
        "<a href=\"https://colab.research.google.com/github/Sowdarjya/bladebreakers_iotricity/blob/main/irrigation_predictor_model.ipynb\" target=\"_parent\"><img src=\"https://colab.research.google.com/assets/colab-badge.svg\" alt=\"Open In Colab\"/></a>"
      ]
    },
    {
      "cell_type": "code",
      "source": [
        "import numpy as np\n",
        "import pandas as pd\n",
        "import matplotlib.pyplot as plt\n",
        "from sklearn.ensemble import RandomForestClassifier\n",
        "from sklearn.model_selection import TimeSeriesSplit\n",
        "from sklearn.metrics import classification_report, roc_auc_score\n",
        "import shap"
      ],
      "metadata": {
        "id": "D6pc4GG8j-Vu"
      },
      "execution_count": 21,
      "outputs": []
    },
    {
      "cell_type": "code",
      "source": [
        "df = pd.read_csv('soil_data.csv')\n",
        "df['Time'] = pd.to_datetime(df['Time'])\n",
        "df = df.set_index('Time')\n",
        "df.sort_index()"
      ],
      "metadata": {
        "colab": {
          "base_uri": "https://localhost:8080/",
          "height": 455
        },
        "id": "d3vvogt2j-S3",
        "outputId": "e41e435c-bdaf-428d-846f-a29e0dddf6fc"
      },
      "execution_count": 22,
      "outputs": [
        {
          "output_type": "execute_result",
          "data": {
            "text/plain": [
              "                            Humidity  Atmospheric_Temp  Soil_Temp  \\\n",
              "Time                                                                \n",
              "2017-06-11 21:00:21+00:00  25.252367         15.487149  12.457884   \n",
              "2017-06-11 22:00:21+00:00  33.304246         12.115891   8.514263   \n",
              "2017-06-11 23:00:21+00:00  24.072051         17.319203  11.913326   \n",
              "2017-06-12 00:00:21+00:00  45.026218         15.865805  14.700958   \n",
              "2017-06-12 01:00:21+00:00  41.490917         13.842739   8.495549   \n",
              "...                              ...               ...        ...   \n",
              "2018-06-11 17:00:21+00:00  37.667161          5.501209   5.897786   \n",
              "2018-06-11 18:00:21+00:00  31.148023          7.845985   7.859976   \n",
              "2018-06-11 19:00:21+00:00  25.695779         13.482887  10.423108   \n",
              "2018-06-11 20:00:21+00:00  48.461891         12.112883  11.219195   \n",
              "2018-06-11 21:00:21+00:00  25.142511         10.812733   8.553792   \n",
              "\n",
              "                           Soil_Moisture  Dew_Point  \n",
              "Time                                                 \n",
              "2017-06-11 21:00:21+00:00      63.077305  23.918315  \n",
              "2017-06-11 22:00:21+00:00      40.097357  31.542544  \n",
              "2017-06-11 23:00:21+00:00     100.141916  21.142841  \n",
              "2017-06-12 00:00:21+00:00      64.638742  42.217799  \n",
              "2017-06-12 01:00:21+00:00      97.964697  38.257137  \n",
              "...                                  ...        ...  \n",
              "2018-06-11 17:00:21+00:00      70.082583  35.622101  \n",
              "2018-06-11 18:00:21+00:00      83.095407  29.614203  \n",
              "2018-06-11 19:00:21+00:00      38.487019  25.477196  \n",
              "2018-06-11 20:00:21+00:00      29.527964  43.521510  \n",
              "2018-06-11 21:00:21+00:00      71.393746  22.908479  \n",
              "\n",
              "[8761 rows x 5 columns]"
            ],
            "text/html": [
              "\n",
              "  <div id=\"df-32a985b5-ea93-4215-8793-96fbf3f68adf\" class=\"colab-df-container\">\n",
              "    <div>\n",
              "<style scoped>\n",
              "    .dataframe tbody tr th:only-of-type {\n",
              "        vertical-align: middle;\n",
              "    }\n",
              "\n",
              "    .dataframe tbody tr th {\n",
              "        vertical-align: top;\n",
              "    }\n",
              "\n",
              "    .dataframe thead th {\n",
              "        text-align: right;\n",
              "    }\n",
              "</style>\n",
              "<table border=\"1\" class=\"dataframe\">\n",
              "  <thead>\n",
              "    <tr style=\"text-align: right;\">\n",
              "      <th></th>\n",
              "      <th>Humidity</th>\n",
              "      <th>Atmospheric_Temp</th>\n",
              "      <th>Soil_Temp</th>\n",
              "      <th>Soil_Moisture</th>\n",
              "      <th>Dew_Point</th>\n",
              "    </tr>\n",
              "    <tr>\n",
              "      <th>Time</th>\n",
              "      <th></th>\n",
              "      <th></th>\n",
              "      <th></th>\n",
              "      <th></th>\n",
              "      <th></th>\n",
              "    </tr>\n",
              "  </thead>\n",
              "  <tbody>\n",
              "    <tr>\n",
              "      <th>2017-06-11 21:00:21+00:00</th>\n",
              "      <td>25.252367</td>\n",
              "      <td>15.487149</td>\n",
              "      <td>12.457884</td>\n",
              "      <td>63.077305</td>\n",
              "      <td>23.918315</td>\n",
              "    </tr>\n",
              "    <tr>\n",
              "      <th>2017-06-11 22:00:21+00:00</th>\n",
              "      <td>33.304246</td>\n",
              "      <td>12.115891</td>\n",
              "      <td>8.514263</td>\n",
              "      <td>40.097357</td>\n",
              "      <td>31.542544</td>\n",
              "    </tr>\n",
              "    <tr>\n",
              "      <th>2017-06-11 23:00:21+00:00</th>\n",
              "      <td>24.072051</td>\n",
              "      <td>17.319203</td>\n",
              "      <td>11.913326</td>\n",
              "      <td>100.141916</td>\n",
              "      <td>21.142841</td>\n",
              "    </tr>\n",
              "    <tr>\n",
              "      <th>2017-06-12 00:00:21+00:00</th>\n",
              "      <td>45.026218</td>\n",
              "      <td>15.865805</td>\n",
              "      <td>14.700958</td>\n",
              "      <td>64.638742</td>\n",
              "      <td>42.217799</td>\n",
              "    </tr>\n",
              "    <tr>\n",
              "      <th>2017-06-12 01:00:21+00:00</th>\n",
              "      <td>41.490917</td>\n",
              "      <td>13.842739</td>\n",
              "      <td>8.495549</td>\n",
              "      <td>97.964697</td>\n",
              "      <td>38.257137</td>\n",
              "    </tr>\n",
              "    <tr>\n",
              "      <th>...</th>\n",
              "      <td>...</td>\n",
              "      <td>...</td>\n",
              "      <td>...</td>\n",
              "      <td>...</td>\n",
              "      <td>...</td>\n",
              "    </tr>\n",
              "    <tr>\n",
              "      <th>2018-06-11 17:00:21+00:00</th>\n",
              "      <td>37.667161</td>\n",
              "      <td>5.501209</td>\n",
              "      <td>5.897786</td>\n",
              "      <td>70.082583</td>\n",
              "      <td>35.622101</td>\n",
              "    </tr>\n",
              "    <tr>\n",
              "      <th>2018-06-11 18:00:21+00:00</th>\n",
              "      <td>31.148023</td>\n",
              "      <td>7.845985</td>\n",
              "      <td>7.859976</td>\n",
              "      <td>83.095407</td>\n",
              "      <td>29.614203</td>\n",
              "    </tr>\n",
              "    <tr>\n",
              "      <th>2018-06-11 19:00:21+00:00</th>\n",
              "      <td>25.695779</td>\n",
              "      <td>13.482887</td>\n",
              "      <td>10.423108</td>\n",
              "      <td>38.487019</td>\n",
              "      <td>25.477196</td>\n",
              "    </tr>\n",
              "    <tr>\n",
              "      <th>2018-06-11 20:00:21+00:00</th>\n",
              "      <td>48.461891</td>\n",
              "      <td>12.112883</td>\n",
              "      <td>11.219195</td>\n",
              "      <td>29.527964</td>\n",
              "      <td>43.521510</td>\n",
              "    </tr>\n",
              "    <tr>\n",
              "      <th>2018-06-11 21:00:21+00:00</th>\n",
              "      <td>25.142511</td>\n",
              "      <td>10.812733</td>\n",
              "      <td>8.553792</td>\n",
              "      <td>71.393746</td>\n",
              "      <td>22.908479</td>\n",
              "    </tr>\n",
              "  </tbody>\n",
              "</table>\n",
              "<p>8761 rows × 5 columns</p>\n",
              "</div>\n",
              "    <div class=\"colab-df-buttons\">\n",
              "\n",
              "  <div class=\"colab-df-container\">\n",
              "    <button class=\"colab-df-convert\" onclick=\"convertToInteractive('df-32a985b5-ea93-4215-8793-96fbf3f68adf')\"\n",
              "            title=\"Convert this dataframe to an interactive table.\"\n",
              "            style=\"display:none;\">\n",
              "\n",
              "  <svg xmlns=\"http://www.w3.org/2000/svg\" height=\"24px\" viewBox=\"0 -960 960 960\">\n",
              "    <path d=\"M120-120v-720h720v720H120Zm60-500h600v-160H180v160Zm220 220h160v-160H400v160Zm0 220h160v-160H400v160ZM180-400h160v-160H180v160Zm440 0h160v-160H620v160ZM180-180h160v-160H180v160Zm440 0h160v-160H620v160Z\"/>\n",
              "  </svg>\n",
              "    </button>\n",
              "\n",
              "  <style>\n",
              "    .colab-df-container {\n",
              "      display:flex;\n",
              "      gap: 12px;\n",
              "    }\n",
              "\n",
              "    .colab-df-convert {\n",
              "      background-color: #E8F0FE;\n",
              "      border: none;\n",
              "      border-radius: 50%;\n",
              "      cursor: pointer;\n",
              "      display: none;\n",
              "      fill: #1967D2;\n",
              "      height: 32px;\n",
              "      padding: 0 0 0 0;\n",
              "      width: 32px;\n",
              "    }\n",
              "\n",
              "    .colab-df-convert:hover {\n",
              "      background-color: #E2EBFA;\n",
              "      box-shadow: 0px 1px 2px rgba(60, 64, 67, 0.3), 0px 1px 3px 1px rgba(60, 64, 67, 0.15);\n",
              "      fill: #174EA6;\n",
              "    }\n",
              "\n",
              "    .colab-df-buttons div {\n",
              "      margin-bottom: 4px;\n",
              "    }\n",
              "\n",
              "    [theme=dark] .colab-df-convert {\n",
              "      background-color: #3B4455;\n",
              "      fill: #D2E3FC;\n",
              "    }\n",
              "\n",
              "    [theme=dark] .colab-df-convert:hover {\n",
              "      background-color: #434B5C;\n",
              "      box-shadow: 0px 1px 3px 1px rgba(0, 0, 0, 0.15);\n",
              "      filter: drop-shadow(0px 1px 2px rgba(0, 0, 0, 0.3));\n",
              "      fill: #FFFFFF;\n",
              "    }\n",
              "  </style>\n",
              "\n",
              "    <script>\n",
              "      const buttonEl =\n",
              "        document.querySelector('#df-32a985b5-ea93-4215-8793-96fbf3f68adf button.colab-df-convert');\n",
              "      buttonEl.style.display =\n",
              "        google.colab.kernel.accessAllowed ? 'block' : 'none';\n",
              "\n",
              "      async function convertToInteractive(key) {\n",
              "        const element = document.querySelector('#df-32a985b5-ea93-4215-8793-96fbf3f68adf');\n",
              "        const dataTable =\n",
              "          await google.colab.kernel.invokeFunction('convertToInteractive',\n",
              "                                                    [key], {});\n",
              "        if (!dataTable) return;\n",
              "\n",
              "        const docLinkHtml = 'Like what you see? Visit the ' +\n",
              "          '<a target=\"_blank\" href=https://colab.research.google.com/notebooks/data_table.ipynb>data table notebook</a>'\n",
              "          + ' to learn more about interactive tables.';\n",
              "        element.innerHTML = '';\n",
              "        dataTable['output_type'] = 'display_data';\n",
              "        await google.colab.output.renderOutput(dataTable, element);\n",
              "        const docLink = document.createElement('div');\n",
              "        docLink.innerHTML = docLinkHtml;\n",
              "        element.appendChild(docLink);\n",
              "      }\n",
              "    </script>\n",
              "  </div>\n",
              "\n",
              "\n",
              "    <div id=\"df-2968d477-5478-4a5c-ae31-e2694c539c13\">\n",
              "      <button class=\"colab-df-quickchart\" onclick=\"quickchart('df-2968d477-5478-4a5c-ae31-e2694c539c13')\"\n",
              "                title=\"Suggest charts\"\n",
              "                style=\"display:none;\">\n",
              "\n",
              "<svg xmlns=\"http://www.w3.org/2000/svg\" height=\"24px\"viewBox=\"0 0 24 24\"\n",
              "     width=\"24px\">\n",
              "    <g>\n",
              "        <path d=\"M19 3H5c-1.1 0-2 .9-2 2v14c0 1.1.9 2 2 2h14c1.1 0 2-.9 2-2V5c0-1.1-.9-2-2-2zM9 17H7v-7h2v7zm4 0h-2V7h2v10zm4 0h-2v-4h2v4z\"/>\n",
              "    </g>\n",
              "</svg>\n",
              "      </button>\n",
              "\n",
              "<style>\n",
              "  .colab-df-quickchart {\n",
              "      --bg-color: #E8F0FE;\n",
              "      --fill-color: #1967D2;\n",
              "      --hover-bg-color: #E2EBFA;\n",
              "      --hover-fill-color: #174EA6;\n",
              "      --disabled-fill-color: #AAA;\n",
              "      --disabled-bg-color: #DDD;\n",
              "  }\n",
              "\n",
              "  [theme=dark] .colab-df-quickchart {\n",
              "      --bg-color: #3B4455;\n",
              "      --fill-color: #D2E3FC;\n",
              "      --hover-bg-color: #434B5C;\n",
              "      --hover-fill-color: #FFFFFF;\n",
              "      --disabled-bg-color: #3B4455;\n",
              "      --disabled-fill-color: #666;\n",
              "  }\n",
              "\n",
              "  .colab-df-quickchart {\n",
              "    background-color: var(--bg-color);\n",
              "    border: none;\n",
              "    border-radius: 50%;\n",
              "    cursor: pointer;\n",
              "    display: none;\n",
              "    fill: var(--fill-color);\n",
              "    height: 32px;\n",
              "    padding: 0;\n",
              "    width: 32px;\n",
              "  }\n",
              "\n",
              "  .colab-df-quickchart:hover {\n",
              "    background-color: var(--hover-bg-color);\n",
              "    box-shadow: 0 1px 2px rgba(60, 64, 67, 0.3), 0 1px 3px 1px rgba(60, 64, 67, 0.15);\n",
              "    fill: var(--button-hover-fill-color);\n",
              "  }\n",
              "\n",
              "  .colab-df-quickchart-complete:disabled,\n",
              "  .colab-df-quickchart-complete:disabled:hover {\n",
              "    background-color: var(--disabled-bg-color);\n",
              "    fill: var(--disabled-fill-color);\n",
              "    box-shadow: none;\n",
              "  }\n",
              "\n",
              "  .colab-df-spinner {\n",
              "    border: 2px solid var(--fill-color);\n",
              "    border-color: transparent;\n",
              "    border-bottom-color: var(--fill-color);\n",
              "    animation:\n",
              "      spin 1s steps(1) infinite;\n",
              "  }\n",
              "\n",
              "  @keyframes spin {\n",
              "    0% {\n",
              "      border-color: transparent;\n",
              "      border-bottom-color: var(--fill-color);\n",
              "      border-left-color: var(--fill-color);\n",
              "    }\n",
              "    20% {\n",
              "      border-color: transparent;\n",
              "      border-left-color: var(--fill-color);\n",
              "      border-top-color: var(--fill-color);\n",
              "    }\n",
              "    30% {\n",
              "      border-color: transparent;\n",
              "      border-left-color: var(--fill-color);\n",
              "      border-top-color: var(--fill-color);\n",
              "      border-right-color: var(--fill-color);\n",
              "    }\n",
              "    40% {\n",
              "      border-color: transparent;\n",
              "      border-right-color: var(--fill-color);\n",
              "      border-top-color: var(--fill-color);\n",
              "    }\n",
              "    60% {\n",
              "      border-color: transparent;\n",
              "      border-right-color: var(--fill-color);\n",
              "    }\n",
              "    80% {\n",
              "      border-color: transparent;\n",
              "      border-right-color: var(--fill-color);\n",
              "      border-bottom-color: var(--fill-color);\n",
              "    }\n",
              "    90% {\n",
              "      border-color: transparent;\n",
              "      border-bottom-color: var(--fill-color);\n",
              "    }\n",
              "  }\n",
              "</style>\n",
              "\n",
              "      <script>\n",
              "        async function quickchart(key) {\n",
              "          const quickchartButtonEl =\n",
              "            document.querySelector('#' + key + ' button');\n",
              "          quickchartButtonEl.disabled = true;  // To prevent multiple clicks.\n",
              "          quickchartButtonEl.classList.add('colab-df-spinner');\n",
              "          try {\n",
              "            const charts = await google.colab.kernel.invokeFunction(\n",
              "                'suggestCharts', [key], {});\n",
              "          } catch (error) {\n",
              "            console.error('Error during call to suggestCharts:', error);\n",
              "          }\n",
              "          quickchartButtonEl.classList.remove('colab-df-spinner');\n",
              "          quickchartButtonEl.classList.add('colab-df-quickchart-complete');\n",
              "        }\n",
              "        (() => {\n",
              "          let quickchartButtonEl =\n",
              "            document.querySelector('#df-2968d477-5478-4a5c-ae31-e2694c539c13 button');\n",
              "          quickchartButtonEl.style.display =\n",
              "            google.colab.kernel.accessAllowed ? 'block' : 'none';\n",
              "        })();\n",
              "      </script>\n",
              "    </div>\n",
              "\n",
              "    </div>\n",
              "  </div>\n"
            ],
            "application/vnd.google.colaboratory.intrinsic+json": {
              "type": "dataframe",
              "summary": "{\n  \"name\": \"df\",\n  \"rows\": 8761,\n  \"fields\": [\n    {\n      \"column\": \"Time\",\n      \"properties\": {\n        \"dtype\": \"date\",\n        \"min\": \"2017-06-11 21:00:21+00:00\",\n        \"max\": \"2018-06-11 21:00:21+00:00\",\n        \"num_unique_values\": 8761,\n        \"samples\": [\n          \"2017-09-23 09:00:21+00:00\",\n          \"2017-09-25 08:00:21+00:00\",\n          \"2017-08-21 16:00:21+00:00\"\n        ],\n        \"semantic_type\": \"\",\n        \"description\": \"\"\n      }\n    },\n    {\n      \"column\": \"Humidity\",\n      \"properties\": {\n        \"dtype\": \"number\",\n        \"std\": 12.783808941089893,\n        \"min\": -5.041534004594501,\n        \"max\": 83.1783698974984,\n        \"num_unique_values\": 8761,\n        \"samples\": [\n          46.22695983230448,\n          26.80990444454752,\n          32.884485776374675\n        ],\n        \"semantic_type\": \"\",\n        \"description\": \"\"\n      }\n    },\n    {\n      \"column\": \"Atmospheric_Temp\",\n      \"properties\": {\n        \"dtype\": \"number\",\n        \"std\": 2.464315958126522,\n        \"min\": 2.697718556603677,\n        \"max\": 22.272394564308374,\n        \"num_unique_values\": 8761,\n        \"samples\": [\n          17.55013295609755,\n          15.52637088201989,\n          11.837373298730366\n        ],\n        \"semantic_type\": \"\",\n        \"description\": \"\"\n      }\n    },\n    {\n      \"column\": \"Soil_Temp\",\n      \"properties\": {\n        \"dtype\": \"number\",\n        \"std\": 2.8110462558762124,\n        \"min\": -1.303120090775551,\n        \"max\": 22.67425008183863,\n        \"num_unique_values\": 8761,\n        \"samples\": [\n          15.071130722554251,\n          11.931458398029964,\n          15.04473106636564\n        ],\n        \"semantic_type\": \"\",\n        \"description\": \"\"\n      }\n    },\n    {\n      \"column\": \"Soil_Moisture\",\n      \"properties\": {\n        \"dtype\": \"number\",\n        \"std\": 38.558958465590045,\n        \"min\": 1.6941926761539858,\n        \"max\": 238.42813636428613,\n        \"num_unique_values\": 8761,\n        \"samples\": [\n          137.86351797174348,\n          62.66842210374032,\n          27.10141540870077\n        ],\n        \"semantic_type\": \"\",\n        \"description\": \"\"\n      }\n    },\n    {\n      \"column\": \"Dew_Point\",\n      \"properties\": {\n        \"dtype\": \"number\",\n        \"std\": 11.523898802978252,\n        \"min\": -5.356610998832813,\n        \"max\": 74.6980398221715,\n        \"num_unique_values\": 8761,\n        \"samples\": [\n          41.94788052710461,\n          23.44603203596152,\n          27.888752844517818\n        ],\n        \"semantic_type\": \"\",\n        \"description\": \"\"\n      }\n    }\n  ]\n}"
            }
          },
          "metadata": {},
          "execution_count": 22
        }
      ]
    },
    {
      "cell_type": "code",
      "source": [
        "df.columns"
      ],
      "metadata": {
        "colab": {
          "base_uri": "https://localhost:8080/"
        },
        "id": "uCIfNRTrj-Qj",
        "outputId": "0bd110a7-58b8-40fa-8d1a-81da5ecae0c5"
      },
      "execution_count": 23,
      "outputs": [
        {
          "output_type": "execute_result",
          "data": {
            "text/plain": [
              "Index(['Humidity', 'Atmospheric_Temp', 'Soil_Temp', 'Soil_Moisture',\n",
              "       'Dew_Point'],\n",
              "      dtype='object')"
            ]
          },
          "metadata": {},
          "execution_count": 23
        }
      ]
    },
    {
      "cell_type": "code",
      "source": [
        "threshold = df['Soil_Moisture'].quantile(0.2)\n",
        "df['irrigation_needed'] = (df['Soil_Moisture'] < threshold).astype(int)"
      ],
      "metadata": {
        "id": "G02MbFgcj-No"
      },
      "execution_count": 24,
      "outputs": []
    },
    {
      "cell_type": "code",
      "source": [
        "print(f\"Threshold for irrigation = {threshold:.2f}\")\n",
        "print(df[\"irrigation_needed\"].value_counts())"
      ],
      "metadata": {
        "colab": {
          "base_uri": "https://localhost:8080/"
        },
        "id": "KqNp9NzxmSKW",
        "outputId": "7a14c95e-2524-498a-c0af-d185843a3066"
      },
      "execution_count": 25,
      "outputs": [
        {
          "output_type": "stream",
          "name": "stdout",
          "text": [
            "Threshold for irrigation = 46.50\n",
            "irrigation_needed\n",
            "0    7009\n",
            "1    1752\n",
            "Name: count, dtype: int64\n"
          ]
        }
      ]
    },
    {
      "cell_type": "code",
      "source": [
        "df['Soil_Moisture_Deep'] = df['Soil_Moisture']\n",
        "df['Soil_Moisture_Shallow'] = df['Soil_Moisture'] + np.random.normal(0, 2, len(df))"
      ],
      "metadata": {
        "id": "QS2tDIQ0j9v7"
      },
      "execution_count": 26,
      "outputs": []
    },
    {
      "cell_type": "code",
      "source": [
        "feature_cols = [\n",
        "    \"Soil_Moisture_Shallow\",\n",
        "    \"Soil_Moisture_Deep\",\n",
        "    \"Atmospheric_Temp\",\n",
        "    \"Humidity\"\n",
        "]"
      ],
      "metadata": {
        "id": "TSeA63ksoy0P"
      },
      "execution_count": 27,
      "outputs": []
    },
    {
      "cell_type": "code",
      "source": [
        "df['Hour'] = df.index.hour\n",
        "df['Month'] = df.index.month\n",
        "feature_cols.extend(['Hour', 'Month'])"
      ],
      "metadata": {
        "id": "ZzTRZI7joyws"
      },
      "execution_count": 28,
      "outputs": []
    },
    {
      "cell_type": "code",
      "source": [
        "x = df[feature_cols]\n",
        "y = df[\"irrigation_needed\"]"
      ],
      "metadata": {
        "id": "oVnboSXtoyuF"
      },
      "execution_count": 29,
      "outputs": []
    },
    {
      "cell_type": "code",
      "source": [
        "tscv = TimeSeriesSplit(n_splits=5)\n",
        "aucs = []"
      ],
      "metadata": {
        "id": "tkRUb5uNoyfm"
      },
      "execution_count": 30,
      "outputs": []
    },
    {
      "cell_type": "code",
      "source": [
        "for split, (train_idx, test_idx) in enumerate(tscv.split(x), 1):\n",
        "    X_train, X_test = x.iloc[train_idx], x.iloc[test_idx]\n",
        "    y_train, y_test = y.iloc[train_idx], y.iloc[test_idx]\n",
        "\n",
        "    model = RandomForestClassifier(\n",
        "        n_estimators=100, random_state=42, class_weight=\"balanced\"\n",
        "    )\n",
        "    model.fit(X_train, y_train)\n",
        "\n",
        "    y_proba = model.predict_proba(X_test)[:, 1]\n",
        "    roc_auc = roc_auc_score(y_test, y_proba)\n",
        "    aucs.append(roc_auc)\n",
        "\n",
        "    print(f\"\\nSplit {split} ROC-AUC = {roc_auc:.3f}\")\n",
        "    print(classification_report(y_test, model.predict(X_test)))"
      ],
      "metadata": {
        "id": "9j8QAvqhoyct",
        "colab": {
          "base_uri": "https://localhost:8080/"
        },
        "outputId": "01dee3c3-62db-4067-de01-f7c69ebd00f6"
      },
      "execution_count": 31,
      "outputs": [
        {
          "output_type": "stream",
          "name": "stdout",
          "text": [
            "\n",
            "Split 1 ROC-AUC = 1.000\n",
            "              precision    recall  f1-score   support\n",
            "\n",
            "           0       1.00      1.00      1.00      1195\n",
            "           1       1.00      1.00      1.00       265\n",
            "\n",
            "    accuracy                           1.00      1460\n",
            "   macro avg       1.00      1.00      1.00      1460\n",
            "weighted avg       1.00      1.00      1.00      1460\n",
            "\n",
            "\n",
            "Split 2 ROC-AUC = 1.000\n",
            "              precision    recall  f1-score   support\n",
            "\n",
            "           0       1.00      1.00      1.00      1171\n",
            "           1       1.00      1.00      1.00       289\n",
            "\n",
            "    accuracy                           1.00      1460\n",
            "   macro avg       1.00      1.00      1.00      1460\n",
            "weighted avg       1.00      1.00      1.00      1460\n",
            "\n",
            "\n",
            "Split 3 ROC-AUC = 1.000\n",
            "              precision    recall  f1-score   support\n",
            "\n",
            "           0       1.00      1.00      1.00      1168\n",
            "           1       1.00      1.00      1.00       292\n",
            "\n",
            "    accuracy                           1.00      1460\n",
            "   macro avg       1.00      1.00      1.00      1460\n",
            "weighted avg       1.00      1.00      1.00      1460\n",
            "\n",
            "\n",
            "Split 4 ROC-AUC = 1.000\n",
            "              precision    recall  f1-score   support\n",
            "\n",
            "           0       1.00      1.00      1.00      1163\n",
            "           1       1.00      1.00      1.00       297\n",
            "\n",
            "    accuracy                           1.00      1460\n",
            "   macro avg       1.00      1.00      1.00      1460\n",
            "weighted avg       1.00      1.00      1.00      1460\n",
            "\n",
            "\n",
            "Split 5 ROC-AUC = 1.000\n",
            "              precision    recall  f1-score   support\n",
            "\n",
            "           0       1.00      1.00      1.00      1152\n",
            "           1       1.00      1.00      1.00       308\n",
            "\n",
            "    accuracy                           1.00      1460\n",
            "   macro avg       1.00      1.00      1.00      1460\n",
            "weighted avg       1.00      1.00      1.00      1460\n",
            "\n"
          ]
        }
      ]
    },
    {
      "cell_type": "code",
      "source": [
        "np.mean(aucs)"
      ],
      "metadata": {
        "colab": {
          "base_uri": "https://localhost:8080/"
        },
        "id": "llYXSgSiQqjZ",
        "outputId": "23626076-852e-438d-dabb-dad463f4f509"
      },
      "execution_count": 32,
      "outputs": [
        {
          "output_type": "execute_result",
          "data": {
            "text/plain": [
              "np.float64(1.0)"
            ]
          },
          "metadata": {},
          "execution_count": 32
        }
      ]
    },
    {
      "cell_type": "code",
      "source": [
        "explainer = shap.TreeExplainer(model)\n",
        "X_for_shap = X_train\n",
        "shap_values = explainer.shap_values(X_for_shap)\n",
        "\n",
        "shap_values_class_1 = shap_values[1]\n",
        "\n",
        "print(f\"Shape of shap_values_class_1: {shap_values_class_1.shape}\")\n",
        "print(f\"Shape of X_for_shap: {X_for_shap.shape}\")"
      ],
      "metadata": {
        "colab": {
          "base_uri": "https://localhost:8080/"
        },
        "id": "8Jp7DXP1Qqf_",
        "outputId": "c628f586-2e31-4ff7-9b41-193d953b093c"
      },
      "execution_count": 33,
      "outputs": [
        {
          "output_type": "stream",
          "name": "stdout",
          "text": [
            "Shape of shap_values_class_1: (6, 2)\n",
            "Shape of X_for_shap: (7301, 6)\n"
          ]
        }
      ]
    },
    {
      "cell_type": "code",
      "source": [
        "# Ensure the shapes match before plotting\n",
        "if shap_values_class_1.shape == X_for_shap.shape:\n",
        "    shap.summary_plot(shap_values_class_1, X_for_shap, feature_names=feature_cols)\n",
        "else:\n",
        "    print(\"Shape mismatch between SHAP values and data used for calculation.\")\n",
        "    print(f\"Shape of shap_values_class_1: {shap_values_class_1.shape}\")\n",
        "    print(f\"Shape of X_for_shap: {X_for_shap.shape}\")"
      ],
      "metadata": {
        "colab": {
          "base_uri": "https://localhost:8080/"
        },
        "id": "lrwXc07eQqdm",
        "outputId": "06b2ecb7-9ae6-4dc5-b831-e476471158e8"
      },
      "execution_count": 34,
      "outputs": [
        {
          "output_type": "stream",
          "name": "stdout",
          "text": [
            "Shape mismatch between SHAP values and data used for calculation.\n",
            "Shape of shap_values_class_1: (6, 2)\n",
            "Shape of X_for_shap: (7301, 6)\n"
          ]
        }
      ]
    },
    {
      "cell_type": "code",
      "source": [
        "# Get the feature names and their order from the training data\n",
        "training_feature_names = x.columns.tolist()\n",
        "\n",
        "# Generate multiple hardware test cases as a list of dictionaries\n",
        "test_cases = [\n",
        "    {\n",
        "        \"Soil_Moisture_Shallow\": 10.0,\n",
        "        \"Soil_Moisture_Deep\": 15.0,\n",
        "        \"Atmospheric_Temp\": 35.0,\n",
        "        \"Humidity\": 14.0,\n",
        "        \"Hour\": 5,\n",
        "        \"Month\": 5\n",
        "    },   # very dry soil → Irrigate\n",
        "    {\n",
        "        \"Soil_Moisture_Shallow\": 45.0,\n",
        "        \"Soil_Moisture_Deep\": 50.0,\n",
        "        \"Atmospheric_Temp\": 32.0,\n",
        "        \"Humidity\": 14.0,\n",
        "        \"Hour\": 5,\n",
        "        \"Month\": 5\n",
        "    },   # wet soil → No irrigation\n",
        "    {\n",
        "        \"Soil_Moisture_Shallow\": 25.0,\n",
        "        \"Soil_Moisture_Deep\": 28.0,\n",
        "        \"Atmospheric_Temp\": 75.0,\n",
        "        \"Humidity\": 10.0,\n",
        "        \"Hour\": 7,\n",
        "        \"Month\": 7\n",
        "    },   # moderate soil + high humidity → No irrigation\n",
        "    {\n",
        "        \"Soil_Moisture_Shallow\": 15.0,\n",
        "        \"Soil_Moisture_Deep\": 18.0,\n",
        "        \"Atmospheric_Temp\": 85.0,\n",
        "        \"Humidity\": 16.0,\n",
        "        \"Hour\": 12,\n",
        "        \"Month\": 12\n",
        "    },  # dry soil but very humid → maybe No irrigation\n",
        "]\n",
        "\n",
        "\n",
        "for i, case_dict in enumerate(test_cases, 1):\n",
        "    test_input = pd.DataFrame([case_dict], columns=training_feature_names)\n",
        "    prediction = model.predict(test_input)\n",
        "    probability = model.predict_proba(test_input)[:,1]\n",
        "\n",
        "    print(f\"\\nHardware test case {i}:\")\n",
        "    print(\"Input:\", case_dict)\n",
        "    print(\"Prediction:\", \"Irrigate ✅\" if prediction[0]==1 else \"No irrigation ❌\")\n",
        "    print(\"Confidence:\", round(probability[0], 3))"
      ],
      "metadata": {
        "colab": {
          "base_uri": "https://localhost:8080/"
        },
        "id": "pUwYYlpfQqbP",
        "outputId": "f0de4c81-8cad-4ea6-c864-c4f10842ec3b"
      },
      "execution_count": 35,
      "outputs": [
        {
          "output_type": "stream",
          "name": "stdout",
          "text": [
            "\n",
            "Hardware test case 1:\n",
            "Input: {'Soil_Moisture_Shallow': 10.0, 'Soil_Moisture_Deep': 15.0, 'Atmospheric_Temp': 35.0, 'Humidity': 14.0, 'Hour': 5, 'Month': 5}\n",
            "Prediction: Irrigate ✅\n",
            "Confidence: 1.0\n",
            "\n",
            "Hardware test case 2:\n",
            "Input: {'Soil_Moisture_Shallow': 45.0, 'Soil_Moisture_Deep': 50.0, 'Atmospheric_Temp': 32.0, 'Humidity': 14.0, 'Hour': 5, 'Month': 5}\n",
            "Prediction: No irrigation ❌\n",
            "Confidence: 0.09\n",
            "\n",
            "Hardware test case 3:\n",
            "Input: {'Soil_Moisture_Shallow': 25.0, 'Soil_Moisture_Deep': 28.0, 'Atmospheric_Temp': 75.0, 'Humidity': 10.0, 'Hour': 7, 'Month': 7}\n",
            "Prediction: Irrigate ✅\n",
            "Confidence: 1.0\n",
            "\n",
            "Hardware test case 4:\n",
            "Input: {'Soil_Moisture_Shallow': 15.0, 'Soil_Moisture_Deep': 18.0, 'Atmospheric_Temp': 85.0, 'Humidity': 16.0, 'Hour': 12, 'Month': 12}\n",
            "Prediction: Irrigate ✅\n",
            "Confidence: 1.0\n"
          ]
        }
      ]
    },
    {
      "cell_type": "code",
      "source": [],
      "metadata": {
        "id": "pDzdCmrCQqY5"
      },
      "execution_count": 35,
      "outputs": []
    },
    {
      "cell_type": "code",
      "source": [],
      "metadata": {
        "id": "bIiM3HmQQqWV"
      },
      "execution_count": 35,
      "outputs": []
    },
    {
      "cell_type": "code",
      "source": [],
      "metadata": {
        "id": "y_0oUNG3QqTr"
      },
      "execution_count": 35,
      "outputs": []
    },
    {
      "cell_type": "code",
      "source": [],
      "metadata": {
        "id": "FAsZCtzUQqQ_"
      },
      "execution_count": 35,
      "outputs": []
    },
    {
      "cell_type": "code",
      "source": [],
      "metadata": {
        "id": "7DBZOzrpQqOP"
      },
      "execution_count": 35,
      "outputs": []
    },
    {
      "cell_type": "code",
      "source": [],
      "metadata": {
        "id": "qVnKXIElQqLn"
      },
      "execution_count": 35,
      "outputs": []
    }
  ]
}