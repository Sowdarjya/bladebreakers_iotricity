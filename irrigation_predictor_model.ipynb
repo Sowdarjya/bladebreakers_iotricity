{
  "cells": [
    {
      "cell_type": "markdown",
      "metadata": {
        "colab_type": "text",
        "id": "view-in-github"
      },
      "source": [
        "<a href=\"https://colab.research.google.com/github/Sowdarjya/bladebreakers_iotricity/blob/main/irrigation_predictor_model.ipynb\" target=\"_parent\"><img src=\"https://colab.research.google.com/assets/colab-badge.svg\" alt=\"Open In Colab\"/></a>"
      ]
    },
    {
      "cell_type": "code",
      "execution_count": 1,
      "metadata": {
        "id": "D6pc4GG8j-Vu"
      },
      "outputs": [
        {
          "name": "stderr",
          "output_type": "stream",
          "text": [
            "d:\\bladebreakers_iotricity\\venv\\Lib\\site-packages\\tqdm\\auto.py:21: TqdmWarning: IProgress not found. Please update jupyter and ipywidgets. See https://ipywidgets.readthedocs.io/en/stable/user_install.html\n",
            "  from .autonotebook import tqdm as notebook_tqdm\n"
          ]
        }
      ],
      "source": [
        "import numpy as np\n",
        "import pandas as pd\n",
        "import matplotlib.pyplot as plt\n",
        "from sklearn.ensemble import RandomForestClassifier\n",
        "from sklearn.model_selection import TimeSeriesSplit\n",
        "from sklearn.metrics import classification_report, roc_auc_score\n",
        "import shap"
      ]
    },
    {
      "cell_type": "code",
      "execution_count": 2,
      "metadata": {
        "colab": {
          "base_uri": "https://localhost:8080/",
          "height": 455
        },
        "id": "d3vvogt2j-S3",
        "outputId": "e41e435c-bdaf-428d-846f-a29e0dddf6fc"
      },
      "outputs": [
        {
          "data": {
            "text/html": [
              "<div>\n",
              "<style scoped>\n",
              "    .dataframe tbody tr th:only-of-type {\n",
              "        vertical-align: middle;\n",
              "    }\n",
              "\n",
              "    .dataframe tbody tr th {\n",
              "        vertical-align: top;\n",
              "    }\n",
              "\n",
              "    .dataframe thead th {\n",
              "        text-align: right;\n",
              "    }\n",
              "</style>\n",
              "<table border=\"1\" class=\"dataframe\">\n",
              "  <thead>\n",
              "    <tr style=\"text-align: right;\">\n",
              "      <th></th>\n",
              "      <th>Humidity</th>\n",
              "      <th>Atmospheric_Temp</th>\n",
              "      <th>Soil_Temp</th>\n",
              "      <th>Soil_Moisture</th>\n",
              "      <th>Dew_Point</th>\n",
              "    </tr>\n",
              "    <tr>\n",
              "      <th>Time</th>\n",
              "      <th></th>\n",
              "      <th></th>\n",
              "      <th></th>\n",
              "      <th></th>\n",
              "      <th></th>\n",
              "    </tr>\n",
              "  </thead>\n",
              "  <tbody>\n",
              "    <tr>\n",
              "      <th>2017-06-11 21:00:21+00:00</th>\n",
              "      <td>25.252367</td>\n",
              "      <td>15.487149</td>\n",
              "      <td>12.457884</td>\n",
              "      <td>63.077305</td>\n",
              "      <td>23.918315</td>\n",
              "    </tr>\n",
              "    <tr>\n",
              "      <th>2017-06-11 22:00:21+00:00</th>\n",
              "      <td>33.304246</td>\n",
              "      <td>12.115891</td>\n",
              "      <td>8.514263</td>\n",
              "      <td>40.097357</td>\n",
              "      <td>31.542544</td>\n",
              "    </tr>\n",
              "    <tr>\n",
              "      <th>2017-06-11 23:00:21+00:00</th>\n",
              "      <td>24.072051</td>\n",
              "      <td>17.319203</td>\n",
              "      <td>11.913326</td>\n",
              "      <td>100.141916</td>\n",
              "      <td>21.142841</td>\n",
              "    </tr>\n",
              "    <tr>\n",
              "      <th>2017-06-12 00:00:21+00:00</th>\n",
              "      <td>45.026218</td>\n",
              "      <td>15.865805</td>\n",
              "      <td>14.700958</td>\n",
              "      <td>64.638742</td>\n",
              "      <td>42.217799</td>\n",
              "    </tr>\n",
              "    <tr>\n",
              "      <th>2017-06-12 01:00:21+00:00</th>\n",
              "      <td>41.490917</td>\n",
              "      <td>13.842739</td>\n",
              "      <td>8.495549</td>\n",
              "      <td>97.964697</td>\n",
              "      <td>38.257137</td>\n",
              "    </tr>\n",
              "    <tr>\n",
              "      <th>...</th>\n",
              "      <td>...</td>\n",
              "      <td>...</td>\n",
              "      <td>...</td>\n",
              "      <td>...</td>\n",
              "      <td>...</td>\n",
              "    </tr>\n",
              "    <tr>\n",
              "      <th>2018-06-11 17:00:21+00:00</th>\n",
              "      <td>37.667161</td>\n",
              "      <td>5.501209</td>\n",
              "      <td>5.897786</td>\n",
              "      <td>70.082583</td>\n",
              "      <td>35.622101</td>\n",
              "    </tr>\n",
              "    <tr>\n",
              "      <th>2018-06-11 18:00:21+00:00</th>\n",
              "      <td>31.148023</td>\n",
              "      <td>7.845985</td>\n",
              "      <td>7.859976</td>\n",
              "      <td>83.095407</td>\n",
              "      <td>29.614203</td>\n",
              "    </tr>\n",
              "    <tr>\n",
              "      <th>2018-06-11 19:00:21+00:00</th>\n",
              "      <td>25.695779</td>\n",
              "      <td>13.482887</td>\n",
              "      <td>10.423108</td>\n",
              "      <td>38.487019</td>\n",
              "      <td>25.477196</td>\n",
              "    </tr>\n",
              "    <tr>\n",
              "      <th>2018-06-11 20:00:21+00:00</th>\n",
              "      <td>48.461891</td>\n",
              "      <td>12.112883</td>\n",
              "      <td>11.219195</td>\n",
              "      <td>29.527964</td>\n",
              "      <td>43.521510</td>\n",
              "    </tr>\n",
              "    <tr>\n",
              "      <th>2018-06-11 21:00:21+00:00</th>\n",
              "      <td>25.142511</td>\n",
              "      <td>10.812733</td>\n",
              "      <td>8.553792</td>\n",
              "      <td>71.393746</td>\n",
              "      <td>22.908479</td>\n",
              "    </tr>\n",
              "  </tbody>\n",
              "</table>\n",
              "<p>8761 rows × 5 columns</p>\n",
              "</div>"
            ],
            "text/plain": [
              "                            Humidity  Atmospheric_Temp  Soil_Temp  \\\n",
              "Time                                                                \n",
              "2017-06-11 21:00:21+00:00  25.252367         15.487149  12.457884   \n",
              "2017-06-11 22:00:21+00:00  33.304246         12.115891   8.514263   \n",
              "2017-06-11 23:00:21+00:00  24.072051         17.319203  11.913326   \n",
              "2017-06-12 00:00:21+00:00  45.026218         15.865805  14.700958   \n",
              "2017-06-12 01:00:21+00:00  41.490917         13.842739   8.495549   \n",
              "...                              ...               ...        ...   \n",
              "2018-06-11 17:00:21+00:00  37.667161          5.501209   5.897786   \n",
              "2018-06-11 18:00:21+00:00  31.148023          7.845985   7.859976   \n",
              "2018-06-11 19:00:21+00:00  25.695779         13.482887  10.423108   \n",
              "2018-06-11 20:00:21+00:00  48.461891         12.112883  11.219195   \n",
              "2018-06-11 21:00:21+00:00  25.142511         10.812733   8.553792   \n",
              "\n",
              "                           Soil_Moisture  Dew_Point  \n",
              "Time                                                 \n",
              "2017-06-11 21:00:21+00:00      63.077305  23.918315  \n",
              "2017-06-11 22:00:21+00:00      40.097357  31.542544  \n",
              "2017-06-11 23:00:21+00:00     100.141916  21.142841  \n",
              "2017-06-12 00:00:21+00:00      64.638742  42.217799  \n",
              "2017-06-12 01:00:21+00:00      97.964697  38.257137  \n",
              "...                                  ...        ...  \n",
              "2018-06-11 17:00:21+00:00      70.082583  35.622101  \n",
              "2018-06-11 18:00:21+00:00      83.095407  29.614203  \n",
              "2018-06-11 19:00:21+00:00      38.487019  25.477196  \n",
              "2018-06-11 20:00:21+00:00      29.527964  43.521510  \n",
              "2018-06-11 21:00:21+00:00      71.393746  22.908479  \n",
              "\n",
              "[8761 rows x 5 columns]"
            ]
          },
          "execution_count": 2,
          "metadata": {},
          "output_type": "execute_result"
        }
      ],
      "source": [
        "df = pd.read_csv('soil_data.csv')\n",
        "df['Time'] = pd.to_datetime(df['Time'])\n",
        "df = df.set_index('Time')\n",
        "df.sort_index()"
      ]
    },
    {
      "cell_type": "code",
      "execution_count": 3,
      "metadata": {
        "colab": {
          "base_uri": "https://localhost:8080/"
        },
        "id": "uCIfNRTrj-Qj",
        "outputId": "0bd110a7-58b8-40fa-8d1a-81da5ecae0c5"
      },
      "outputs": [
        {
          "data": {
            "text/plain": [
              "Index(['Humidity', 'Atmospheric_Temp', 'Soil_Temp', 'Soil_Moisture',\n",
              "       'Dew_Point'],\n",
              "      dtype='object')"
            ]
          },
          "execution_count": 3,
          "metadata": {},
          "output_type": "execute_result"
        }
      ],
      "source": [
        "df.columns"
      ]
    },
    {
      "cell_type": "code",
      "execution_count": 4,
      "metadata": {
        "id": "G02MbFgcj-No"
      },
      "outputs": [],
      "source": [
        "threshold = df['Soil_Moisture'].quantile(0.2)\n",
        "df['irrigation_needed'] = (df['Soil_Moisture'] < threshold).astype(int)"
      ]
    },
    {
      "cell_type": "code",
      "execution_count": 5,
      "metadata": {
        "colab": {
          "base_uri": "https://localhost:8080/"
        },
        "id": "KqNp9NzxmSKW",
        "outputId": "7a14c95e-2524-498a-c0af-d185843a3066"
      },
      "outputs": [
        {
          "name": "stdout",
          "output_type": "stream",
          "text": [
            "Threshold for irrigation = 46.50\n",
            "irrigation_needed\n",
            "0    7009\n",
            "1    1752\n",
            "Name: count, dtype: int64\n"
          ]
        }
      ],
      "source": [
        "print(f\"Threshold for irrigation = {threshold:.2f}\")\n",
        "print(df[\"irrigation_needed\"].value_counts())"
      ]
    },
    {
      "cell_type": "code",
      "execution_count": 6,
      "metadata": {
        "id": "QS2tDIQ0j9v7"
      },
      "outputs": [],
      "source": [
        "df['Soil_Moisture_Deep'] = df['Soil_Moisture']\n",
        "df['Soil_Moisture_Shallow'] = df['Soil_Moisture'] + np.random.normal(0, 2, len(df))"
      ]
    },
    {
      "cell_type": "code",
      "execution_count": 7,
      "metadata": {
        "id": "TSeA63ksoy0P"
      },
      "outputs": [],
      "source": [
        "feature_cols = [\n",
        "    \"Soil_Moisture_Shallow\",\n",
        "    \"Soil_Moisture_Deep\",\n",
        "    \"Atmospheric_Temp\",\n",
        "    \"Humidity\"\n",
        "]"
      ]
    },
    {
      "cell_type": "code",
      "execution_count": 8,
      "metadata": {
        "id": "ZzTRZI7joyws"
      },
      "outputs": [],
      "source": [
        "df['Hour'] = df.index.hour\n",
        "df['Month'] = df.index.month\n",
        "feature_cols.extend(['Hour', 'Month'])"
      ]
    },
    {
      "cell_type": "code",
      "execution_count": 9,
      "metadata": {
        "id": "oVnboSXtoyuF"
      },
      "outputs": [],
      "source": [
        "x = df[feature_cols]\n",
        "y = df[\"irrigation_needed\"]"
      ]
    },
    {
      "cell_type": "code",
      "execution_count": 10,
      "metadata": {
        "id": "tkRUb5uNoyfm"
      },
      "outputs": [],
      "source": [
        "tscv = TimeSeriesSplit(n_splits=5)\n",
        "aucs = []"
      ]
    },
    {
      "cell_type": "code",
      "execution_count": 11,
      "metadata": {
        "colab": {
          "base_uri": "https://localhost:8080/"
        },
        "id": "9j8QAvqhoyct",
        "outputId": "01dee3c3-62db-4067-de01-f7c69ebd00f6"
      },
      "outputs": [
        {
          "name": "stdout",
          "output_type": "stream",
          "text": [
            "\n",
            "Split 1 ROC-AUC = 1.000\n",
            "              precision    recall  f1-score   support\n",
            "\n",
            "           0       1.00      1.00      1.00      1195\n",
            "           1       1.00      1.00      1.00       265\n",
            "\n",
            "    accuracy                           1.00      1460\n",
            "   macro avg       1.00      1.00      1.00      1460\n",
            "weighted avg       1.00      1.00      1.00      1460\n",
            "\n",
            "\n",
            "Split 2 ROC-AUC = 1.000\n",
            "              precision    recall  f1-score   support\n",
            "\n",
            "           0       1.00      1.00      1.00      1171\n",
            "           1       1.00      1.00      1.00       289\n",
            "\n",
            "    accuracy                           1.00      1460\n",
            "   macro avg       1.00      1.00      1.00      1460\n",
            "weighted avg       1.00      1.00      1.00      1460\n",
            "\n",
            "\n",
            "Split 3 ROC-AUC = 1.000\n",
            "              precision    recall  f1-score   support\n",
            "\n",
            "           0       1.00      1.00      1.00      1168\n",
            "           1       1.00      1.00      1.00       292\n",
            "\n",
            "    accuracy                           1.00      1460\n",
            "   macro avg       1.00      1.00      1.00      1460\n",
            "weighted avg       1.00      1.00      1.00      1460\n",
            "\n",
            "\n",
            "Split 4 ROC-AUC = 1.000\n",
            "              precision    recall  f1-score   support\n",
            "\n",
            "           0       1.00      1.00      1.00      1163\n",
            "           1       1.00      1.00      1.00       297\n",
            "\n",
            "    accuracy                           1.00      1460\n",
            "   macro avg       1.00      1.00      1.00      1460\n",
            "weighted avg       1.00      1.00      1.00      1460\n",
            "\n",
            "\n",
            "Split 5 ROC-AUC = 1.000\n",
            "              precision    recall  f1-score   support\n",
            "\n",
            "           0       1.00      1.00      1.00      1152\n",
            "           1       1.00      1.00      1.00       308\n",
            "\n",
            "    accuracy                           1.00      1460\n",
            "   macro avg       1.00      1.00      1.00      1460\n",
            "weighted avg       1.00      1.00      1.00      1460\n",
            "\n"
          ]
        }
      ],
      "source": [
        "for split, (train_idx, test_idx) in enumerate(tscv.split(x), 1):\n",
        "    X_train, X_test = x.iloc[train_idx], x.iloc[test_idx]\n",
        "    y_train, y_test = y.iloc[train_idx], y.iloc[test_idx]\n",
        "\n",
        "    model = RandomForestClassifier(\n",
        "        n_estimators=100, random_state=42, class_weight=\"balanced\"\n",
        "    )\n",
        "    model.fit(X_train, y_train)\n",
        "\n",
        "    y_proba = model.predict_proba(X_test)[:, 1]\n",
        "    roc_auc = roc_auc_score(y_test, y_proba)\n",
        "    aucs.append(roc_auc)\n",
        "\n",
        "    print(f\"\\nSplit {split} ROC-AUC = {roc_auc:.3f}\")\n",
        "    print(classification_report(y_test, model.predict(X_test)))"
      ]
    },
    {
      "cell_type": "code",
      "execution_count": 12,
      "metadata": {
        "colab": {
          "base_uri": "https://localhost:8080/"
        },
        "id": "llYXSgSiQqjZ",
        "outputId": "23626076-852e-438d-dabb-dad463f4f509"
      },
      "outputs": [
        {
          "data": {
            "text/plain": [
              "np.float64(1.0)"
            ]
          },
          "execution_count": 12,
          "metadata": {},
          "output_type": "execute_result"
        }
      ],
      "source": [
        "np.mean(aucs)"
      ]
    },
    {
      "cell_type": "code",
      "execution_count": 13,
      "metadata": {
        "colab": {
          "base_uri": "https://localhost:8080/"
        },
        "id": "8Jp7DXP1Qqf_",
        "outputId": "c628f586-2e31-4ff7-9b41-193d953b093c"
      },
      "outputs": [
        {
          "name": "stdout",
          "output_type": "stream",
          "text": [
            "Shape of shap_values_class_1: (6, 2)\n",
            "Shape of X_for_shap: (7301, 6)\n"
          ]
        }
      ],
      "source": [
        "explainer = shap.TreeExplainer(model)\n",
        "X_for_shap = X_train\n",
        "shap_values = explainer.shap_values(X_for_shap)\n",
        "\n",
        "shap_values_class_1 = shap_values[1]\n",
        "\n",
        "print(f\"Shape of shap_values_class_1: {shap_values_class_1.shape}\")\n",
        "print(f\"Shape of X_for_shap: {X_for_shap.shape}\")"
      ]
    },
    {
      "cell_type": "code",
      "execution_count": 14,
      "metadata": {
        "colab": {
          "base_uri": "https://localhost:8080/"
        },
        "id": "lrwXc07eQqdm",
        "outputId": "06b2ecb7-9ae6-4dc5-b831-e476471158e8"
      },
      "outputs": [
        {
          "name": "stdout",
          "output_type": "stream",
          "text": [
            "Shape mismatch between SHAP values and data used for calculation.\n",
            "Shape of shap_values_class_1: (6, 2)\n",
            "Shape of X_for_shap: (7301, 6)\n"
          ]
        }
      ],
      "source": [
        "# Ensure the shapes match before plotting\n",
        "if shap_values_class_1.shape == X_for_shap.shape:\n",
        "    shap.summary_plot(shap_values_class_1, X_for_shap, feature_names=feature_cols)\n",
        "else:\n",
        "    print(\"Shape mismatch between SHAP values and data used for calculation.\")\n",
        "    print(f\"Shape of shap_values_class_1: {shap_values_class_1.shape}\")\n",
        "    print(f\"Shape of X_for_shap: {X_for_shap.shape}\")"
      ]
    },
    {
      "cell_type": "code",
      "execution_count": 18,
      "metadata": {
        "colab": {
          "base_uri": "https://localhost:8080/"
        },
        "id": "pUwYYlpfQqbP",
        "outputId": "f0de4c81-8cad-4ea6-c864-c4f10842ec3b"
      },
      "outputs": [
        {
          "name": "stdout",
          "output_type": "stream",
          "text": [
            "\n",
            "Hardware test case 1:\n",
            "Input: {'Soil_Moisture_Shallow': 10.0, 'Soil_Moisture_Deep': 15.0, 'Atmospheric_Temp': 35.0, 'Humidity': 14.0, 'Hour': 5, 'Month': 5}\n",
            "Prediction: Irrigate ✅\n",
            "Confidence: 1.0\n",
            "\n",
            "Hardware test case 2:\n",
            "Input: {'Soil_Moisture_Shallow': 45.0, 'Soil_Moisture_Deep': 50.0, 'Atmospheric_Temp': 32.0, 'Humidity': 14.0, 'Hour': 5, 'Month': 5}\n",
            "Prediction: No irrigation ❌\n",
            "Confidence: 0.03\n",
            "\n",
            "Hardware test case 3:\n",
            "Input: {'Soil_Moisture_Shallow': 25.0, 'Soil_Moisture_Deep': 28.0, 'Atmospheric_Temp': 75.0, 'Humidity': 10.0, 'Hour': 7, 'Month': 7}\n",
            "Prediction: Irrigate ✅\n",
            "Confidence: 1.0\n",
            "\n",
            "Hardware test case 4:\n",
            "Input: {'Soil_Moisture_Shallow': 15.0, 'Soil_Moisture_Deep': 18.0, 'Atmospheric_Temp': 85.0, 'Humidity': 16.0, 'Hour': 12, 'Month': 12}\n",
            "Prediction: Irrigate ✅\n",
            "Confidence: 1.0\n"
          ]
        }
      ],
      "source": [
        "# Get the feature names and their order from the training data\n",
        "training_feature_names = x.columns.tolist()\n",
        "\n",
        "# Generate multiple hardware test cases as a list of dictionaries\n",
        "test_cases = [\n",
        "    {\n",
        "        \"Soil_Moisture_Shallow\": 10.0,\n",
        "        \"Soil_Moisture_Deep\": 15.0,\n",
        "        \"Atmospheric_Temp\": 35.0,\n",
        "        \"Humidity\": 14.0,\n",
        "        \"Hour\": 5,\n",
        "        \"Month\": 5\n",
        "    },   # very dry soil → Irrigate\n",
        "    {\n",
        "        \"Soil_Moisture_Shallow\": 45.0,\n",
        "        \"Soil_Moisture_Deep\": 50.0,\n",
        "        \"Atmospheric_Temp\": 32.0,\n",
        "        \"Humidity\": 14.0,\n",
        "        \"Hour\": 5,\n",
        "        \"Month\": 5\n",
        "    },   # wet soil → No irrigation\n",
        "    {\n",
        "        \"Soil_Moisture_Shallow\": 25.0,\n",
        "        \"Soil_Moisture_Deep\": 28.0,\n",
        "        \"Atmospheric_Temp\": 75.0,\n",
        "        \"Humidity\": 10.0,\n",
        "        \"Hour\": 7,\n",
        "        \"Month\": 7\n",
        "    },   # moderate soil + high humidity → No irrigation\n",
        "    {\n",
        "        \"Soil_Moisture_Shallow\": 15.0,\n",
        "        \"Soil_Moisture_Deep\": 18.0,\n",
        "        \"Atmospheric_Temp\": 85.0,\n",
        "        \"Humidity\": 16.0,\n",
        "        \"Hour\": 12,\n",
        "        \"Month\": 12\n",
        "    },  # dry soil but very humid → maybe No irrigation\n",
        "]\n",
        "\n",
        "\n",
        "for i, case_dict in enumerate(test_cases, 1):\n",
        "    test_input = pd.DataFrame([case_dict], columns=training_feature_names)\n",
        "    prediction = model.predict(test_input)\n",
        "    probability = model.predict_proba(test_input)[:,1]\n",
        "\n",
        "    print(f\"\\nHardware test case {i}:\")\n",
        "    print(\"Input:\", case_dict)\n",
        "    print(\"Prediction:\", \"Irrigate ✅\" if prediction[0]==1 else \"No irrigation ❌\")\n",
        "    print(\"Confidence:\", round(probability[0], 3))"
      ]
    },
    {
      "cell_type": "code",
      "execution_count": 19,
      "metadata": {
        "id": "pDzdCmrCQqY5"
      },
      "outputs": [],
      "source": [
        "import joblib"
      ]
    },
    {
      "cell_type": "code",
      "execution_count": 20,
      "metadata": {
        "id": "bIiM3HmQQqWV"
      },
      "outputs": [
        {
          "data": {
            "text/plain": [
              "['irrigation_model.pkl']"
            ]
          },
          "execution_count": 20,
          "metadata": {},
          "output_type": "execute_result"
        }
      ],
      "source": [
        "joblib.dump(model, \"irrigation_model.pkl\")"
      ]
    },
    {
      "cell_type": "code",
      "execution_count": null,
      "metadata": {
        "id": "y_0oUNG3QqTr"
      },
      "outputs": [],
      "source": []
    },
    {
      "cell_type": "code",
      "execution_count": null,
      "metadata": {
        "id": "FAsZCtzUQqQ_"
      },
      "outputs": [],
      "source": []
    },
    {
      "cell_type": "code",
      "execution_count": null,
      "metadata": {
        "id": "7DBZOzrpQqOP"
      },
      "outputs": [],
      "source": []
    },
    {
      "cell_type": "code",
      "execution_count": null,
      "metadata": {
        "id": "qVnKXIElQqLn"
      },
      "outputs": [],
      "source": []
    }
  ],
  "metadata": {
    "accelerator": "GPU",
    "colab": {
      "authorship_tag": "ABX9TyNh/0lT5kS01huoHY2pjQXv",
      "gpuType": "T4",
      "include_colab_link": true,
      "provenance": []
    },
    "kernelspec": {
      "display_name": "venv",
      "language": "python",
      "name": "python3"
    },
    "language_info": {
      "codemirror_mode": {
        "name": "ipython",
        "version": 3
      },
      "file_extension": ".py",
      "mimetype": "text/x-python",
      "name": "python",
      "nbconvert_exporter": "python",
      "pygments_lexer": "ipython3",
      "version": "3.12.6"
    }
  },
  "nbformat": 4,
  "nbformat_minor": 0
}
